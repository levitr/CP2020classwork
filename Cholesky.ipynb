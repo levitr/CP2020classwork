{
 "cells": [
  {
   "cell_type": "markdown",
   "metadata": {},
   "source": [
    "<font size=\"5\">**Разложение Холецкого:**</font>\n",
    "\n",
    "$A=LL^T$\n",
    "\n",
    "$A$ - симметричная, положительно-определенная, $L$ - нижняя треугольная матрица со строго положительными элементами на диагонали\n",
    "\n",
    "Алгоритм:\n",
    "\n",
    "$l_{11}=\\sqrt{a_{11}}$, $l_{j1}=\\frac{a_{j1}}{l_{11}}$\n",
    "\n",
    "$l_{ii}=\\sqrt{a_{ii}-\\sum_{p=1}^{i-1}l_{ip}^2}$\n",
    "\n",
    "$l_{ji}=\\frac{1}{l_{ii}}(a_{ji}-\\sum_{p=1}^{i-1}l_{ip}l_{jp})$"
   ]
  },
  {
   "cell_type": "code",
   "execution_count": 105,
   "metadata": {},
   "outputs": [],
   "source": [
    "import numpy as np\n",
    "import scipy.linalg as LA\n",
    "import datetime\n",
    "np.set_printoptions(precision=2, linewidth = 200)\n",
    "\n",
    "N=10\n",
    "\n",
    "L0=np.random.randint(1,100,size=(N,N))\n",
    "L0=np.tril(L0)\n",
    "\n",
    "A = L0 @ L0.transpose()\n",
    "x0 = np.random.randint(-10,10,size=(N,))\n",
    "b = A @ x0"
   ]
  },
  {
   "cell_type": "markdown",
   "metadata": {},
   "source": [
    "Решить систему:\n",
    "\n",
    "$Ax=b$\n",
    "\n",
    "Вариант 1 - использовать обратную матрицу:\n",
    "\n",
    "$x=A^{-1}b$"
   ]
  },
  {
   "cell_type": "code",
   "execution_count": 106,
   "metadata": {},
   "outputs": [
    {
     "name": "stdout",
     "output_type": "stream",
     "text": [
      "dt=63.36 microseconds\n"
     ]
    }
   ],
   "source": [
    "t0=datetime.datetime.now()\n",
    "M = 10000\n",
    "\n",
    "for ind in np.arange(M):\n",
    "    x = LA.inv(A) @ b\n",
    "\n",
    "delta = (datetime.datetime.now() - t0).total_seconds()\n",
    "print('dt={0:.2f} microseconds'.format(1e6*delta/M))"
   ]
  },
  {
   "cell_type": "markdown",
   "metadata": {},
   "source": [
    "Вариант 2 - действовать напрямую:\n",
    "\n",
    "(на самом деле, данный метод использует LU разложение)\n"
   ]
  },
  {
   "cell_type": "code",
   "execution_count": 107,
   "metadata": {},
   "outputs": [
    {
     "name": "stdout",
     "output_type": "stream",
     "text": [
      "dt=15.69 microseconds\n"
     ]
    }
   ],
   "source": [
    "t0=datetime.datetime.now()\n",
    "M = 10000\n",
    "\n",
    "for ind in np.arange(M):\n",
    "    x=np.linalg.solve(A,b)\n",
    "    \n",
    "delta = (datetime.datetime.now() - t0).total_seconds()\n",
    "print('dt={0:.2f} microseconds'.format(1e6*delta/M))"
   ]
  },
  {
   "cell_type": "markdown",
   "metadata": {},
   "source": [
    "<font size=\"3\">**LU - алгоритм**</font>"
   ]
  },
  {
   "cell_type": "code",
   "execution_count": 108,
   "metadata": {},
   "outputs": [],
   "source": [
    "def diy_lu(a):\n",
    "    N = a.shape[0]\n",
    "    \n",
    "    u = a.copy()\n",
    "    L = np.eye(N)\n",
    "    for j in range(N-1):\n",
    "        lam = np.eye(N)\n",
    "        gamma = u[j+1:, j] / u[j, j]\n",
    "        lam[j+1:, j] = -gamma\n",
    "        u = lam @ u\n",
    "\n",
    "        lam[j+1:, j] = gamma\n",
    "        L = L @ lam\n",
    "    return L, u"
   ]
  },
  {
   "cell_type": "code",
   "execution_count": 109,
   "metadata": {},
   "outputs": [
    {
     "name": "stdout",
     "output_type": "stream",
     "text": [
      "dt=199.90 microseconds\n"
     ]
    }
   ],
   "source": [
    "t0=datetime.datetime.now()\n",
    "M = 1000\n",
    "\n",
    "for ind in np.arange(M):\n",
    "    L, U = diy_lu(A)\n",
    "    y=LA.solve_triangular(L,b,lower=True,check_finite=False)\n",
    "    x=LA.solve_triangular(U,y,lower=False,check_finite=False)\n",
    "    \n",
    "    \n",
    "delta = (datetime.datetime.now() - t0).total_seconds()\n",
    "print('dt={0:.2f} microseconds'.format(1e6*delta/M))"
   ]
  },
  {
   "cell_type": "markdown",
   "metadata": {},
   "source": [
    "<font size=\"3\">**Разложение Холецкого**</font>"
   ]
  },
  {
   "cell_type": "code",
   "execution_count": 110,
   "metadata": {},
   "outputs": [],
   "source": [
    "def simple_cholesky(A):\n",
    "    N=np.shape(A)[0]\n",
    "    L=np.zeros_like(A)\n",
    "    L[0,0]=np.sqrt(A[0,0])\n",
    "    for j in np.arange(1,N):\n",
    "        L[j,0]=A[j,0]/L[0,0]\n",
    "\n",
    "    for i in np.arange(1,N):\n",
    "        tmp_sum=0\n",
    "        for k in np.arange(0,i):\n",
    "            tmp_sum+=L[i,k]*L[i,k]\n",
    "\n",
    "        L[i,i] = np.sqrt(A[i,i] - tmp_sum)\n",
    "        if i<N-1:\n",
    "            for j in np.arange(i+1,N):\n",
    "                tmp_sum=0\n",
    "                for k in np.arange(0,i):\n",
    "                    tmp_sum+=L[i,k]*L[j,k]\n",
    "\n",
    "                L[j,i] = 1.0 / L[i,i] * (A[j,i] - tmp_sum)\n",
    "    return L"
   ]
  },
  {
   "cell_type": "code",
   "execution_count": 111,
   "metadata": {},
   "outputs": [
    {
     "name": "stdout",
     "output_type": "stream",
     "text": [
      "dt=638.63 microseconds\n"
     ]
    }
   ],
   "source": [
    "t0=datetime.datetime.now()\n",
    "M = 1000\n",
    "\n",
    "for ind in np.arange(M):\n",
    "    L=simple_cholesky(A)\n",
    "    y=LA.solve_triangular(L,b,lower=True,check_finite=False)\n",
    "    x=LA.solve_triangular(L.T,y,lower=False,check_finite=False)\n",
    "    \n",
    "    \n",
    "delta = (datetime.datetime.now() - t0).total_seconds()\n",
    "print('dt={0:.2f} microseconds'.format(1e6*delta/M))"
   ]
  },
  {
   "cell_type": "code",
   "execution_count": 112,
   "metadata": {},
   "outputs": [
    {
     "data": {
      "text/plain": [
       "array([-6, -4, -4, -3, -1, -1,  0,  1,  1,  6])"
      ]
     },
     "execution_count": 112,
     "metadata": {},
     "output_type": "execute_result"
    }
   ],
   "source": [
    "np.sort(x0)"
   ]
  },
  {
   "cell_type": "code",
   "execution_count": 113,
   "metadata": {},
   "outputs": [
    {
     "data": {
      "text/plain": [
       "array([-6., -4., -4., -3., -1., -1.,  0.,  1.,  1.,  6.])"
      ]
     },
     "execution_count": 113,
     "metadata": {},
     "output_type": "execute_result"
    }
   ],
   "source": [
    "np.sort(x)"
   ]
  },
  {
   "cell_type": "markdown",
   "metadata": {},
   "source": [
    "<font size=\"5\">**Еще одно применение - генерация скореллированных случайных величин**</font>\n",
    "\n",
    "Пусть $\\Sigma=LL^T$ - матрица ковариации случайных величин, $X$ - вектор из независимых нормально распределенных случайных величин.\n",
    "\n",
    "Тогда вектор $Y=LX$ будет иметь многомерное нормальное распределение с нулевым средним и заданной ковариационной матрицей $\\Sigma$.\n"
   ]
  },
  {
   "cell_type": "code",
   "execution_count": 116,
   "metadata": {},
   "outputs": [],
   "source": [
    "Nt=40000000 #num of points\n",
    "Nvals=5 #num of vals\n",
    "\n",
    "tmpM=np.random.randint(1,10,size=[Nvals,Nvals]) #generate covariance matrix\n",
    "tmpM=np.tril(tmpM) #make lower triangular matrix\n",
    "\n",
    "Sigma=tmpM.dot(tmpM.T) #inverse cholesky\n",
    "L=np.linalg.cholesky(Sigma) #L==tmpM"
   ]
  },
  {
   "cell_type": "code",
   "execution_count": 117,
   "metadata": {},
   "outputs": [],
   "source": [
    "X=np.random.multivariate_normal(np.zeros(Nvals),np.eye(Nvals),size=Nt).T #non correlated\n",
    "Y=L @ X #correlated"
   ]
  },
  {
   "cell_type": "markdown",
   "metadata": {},
   "source": [
    "Ковариационная матрица, рассчитанная по сгенерированным (некоррелированным) данным:"
   ]
  },
  {
   "cell_type": "code",
   "execution_count": 118,
   "metadata": {},
   "outputs": [
    {
     "name": "stdout",
     "output_type": "stream",
     "text": [
      "[[ 1.00e+00  8.63e-05 -7.44e-05 -1.35e-04 -5.78e-05]\n",
      " [ 8.63e-05  1.00e+00  1.94e-04  2.06e-05 -1.50e-04]\n",
      " [-7.44e-05  1.94e-04  1.00e+00 -1.53e-04  1.56e-04]\n",
      " [-1.35e-04  2.06e-05 -1.53e-04  1.00e+00 -2.20e-04]\n",
      " [-5.78e-05 -1.50e-04  1.56e-04 -2.20e-04  1.00e+00]]\n"
     ]
    }
   ],
   "source": [
    "print(np.cov(X))"
   ]
  },
  {
   "cell_type": "markdown",
   "metadata": {},
   "source": [
    "Ковариационная матрица, рассчитанная по сгенерированным (коррелированным) данным:"
   ]
  },
  {
   "cell_type": "code",
   "execution_count": 119,
   "metadata": {},
   "outputs": [
    {
     "name": "stdout",
     "output_type": "stream",
     "text": [
      "[[ 49.02  35.02  35.02  56.01  42.01]\n",
      " [ 35.02  61.02  79.03  52.03  48.01]\n",
      " [ 35.02  79.03 107.04  67.03  58.01]\n",
      " [ 56.01  52.03  67.03 173.97  92.99]\n",
      " [ 42.01  48.01  58.01  92.99 130.96]]\n"
     ]
    }
   ],
   "source": [
    "print(np.cov(Y))"
   ]
  },
  {
   "cell_type": "markdown",
   "metadata": {},
   "source": [
    "Заданная квариационная матрица:"
   ]
  },
  {
   "cell_type": "code",
   "execution_count": 120,
   "metadata": {},
   "outputs": [
    {
     "name": "stdout",
     "output_type": "stream",
     "text": [
      "[[ 49  35  35  56  42]\n",
      " [ 35  61  79  52  48]\n",
      " [ 35  79 107  67  58]\n",
      " [ 56  52  67 174  93]\n",
      " [ 42  48  58  93 131]]\n"
     ]
    }
   ],
   "source": [
    "print(Sigma)"
   ]
  },
  {
   "cell_type": "markdown",
   "metadata": {},
   "source": [
    "Относительная разница по норме:"
   ]
  },
  {
   "cell_type": "code",
   "execution_count": 121,
   "metadata": {},
   "outputs": [
    {
     "name": "stdout",
     "output_type": "stream",
     "text": [
      "0.00028295488706551574\n"
     ]
    }
   ],
   "source": [
    "dN=np.sqrt(np.sum((Sigma-np.cov(Y))**2))\n",
    "N=np.sqrt(np.sum(Sigma**2))\n",
    "print(dN/N)"
   ]
  },
  {
   "cell_type": "markdown",
   "metadata": {},
   "source": [
    "<font size=\"5\">**Спойлер**</font>\n",
    "\n",
    "Зачем нужны скоррелированные многомерные случайные величины?\n",
    "\n",
    "Например, рассмотрим уравнение диффузии:\n",
    "\n",
    "<font size=\"4\">\n",
    "$\\frac{\\partial f(\\boldsymbol{x},t)}{\\partial t}=-\\sum_i\\frac{\\partial}{\\partial x_i}[\\mu_i (\\boldsymbol{x},t)f(\\boldsymbol{x},t)]+\\sum_i\\sum_j\\frac{\\partial^2}{\\partial x_i \\partial x_j}[D_{ij}(\\boldsymbol{x},t))f(\\boldsymbol{x},t)]$\n",
    "</font>\n",
    "\n",
    "Это уравнение можно решать несколькими способами:\n",
    "\n",
    "1. напрямую (численно, используя разностные схемы)\n",
    "2. используя \"тестовые частицы\"\n",
    "3. прибегая к использованию стохастических дифференциальных уравнений:\n",
    "\n",
    "<font size=\"4\">\n",
    "$d\\boldsymbol{x_t}=\\mu_i(\\boldsymbol{x_t},t)dt+\\sigma(\\boldsymbol{x_t},t)d\\boldsymbol{W_t}$\n",
    "</font>\n",
    "\n",
    "где $\\boldsymbol{W_t}$ -  многомерный винеровский процесс, а тензор $D=\\frac{1}{2}\\sigma\\sigma^T$"
   ]
  },
  {
   "cell_type": "code",
   "execution_count": null,
   "metadata": {},
   "outputs": [],
   "source": []
  },
  {
   "cell_type": "code",
   "execution_count": null,
   "metadata": {},
   "outputs": [],
   "source": [
    "\n",
    "\n"
   ]
  }
 ],
 "metadata": {
  "kernelspec": {
   "display_name": "Python 3",
   "language": "python",
   "name": "python3"
  },
  "language_info": {
   "codemirror_mode": {
    "name": "ipython",
    "version": 3
   },
   "file_extension": ".py",
   "mimetype": "text/x-python",
   "name": "python",
   "nbconvert_exporter": "python",
   "pygments_lexer": "ipython3",
   "version": "3.6.5"
  }
 },
 "nbformat": 4,
 "nbformat_minor": 2
}
