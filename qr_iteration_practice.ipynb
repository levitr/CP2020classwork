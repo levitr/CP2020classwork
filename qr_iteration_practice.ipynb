{
 "cells": [
  {
   "cell_type": "code",
   "execution_count": 60,
   "metadata": {},
   "outputs": [],
   "source": [
    "import numpy as np"
   ]
  },
  {
   "cell_type": "code",
   "execution_count": 61,
   "metadata": {},
   "outputs": [],
   "source": [
    "# QR iteration --- Make students write this\n",
    "def qr_iterate(a, n):\n",
    "    a1 = a.copy()\n",
    "    for _ in range(n):\n",
    "        q, r = np.linalg.qr(a1)\n",
    "        a1 = r @ q\n",
    "    return a1"
   ]
  },
  {
   "cell_type": "markdown",
   "metadata": {},
   "source": [
    "# 1. QR iteration for a symmetric matrix"
   ]
  },
  {
   "cell_type": "code",
   "execution_count": 71,
   "metadata": {},
   "outputs": [
    {
     "data": {
      "text/plain": [
       "array([[1.92435435, 1.36919224, 1.16623152, 1.84975439, 1.62284295],\n",
       "       [1.36919224, 1.30357433, 0.96824262, 1.45354805, 1.06331529],\n",
       "       [1.16623152, 0.96824262, 0.92462551, 1.16481407, 1.16852012],\n",
       "       [1.84975439, 1.45354805, 1.16481407, 2.07789842, 1.63594202],\n",
       "       [1.62284295, 1.06331529, 1.16852012, 1.63594202, 1.80418509]])"
      ]
     },
     "execution_count": 71,
     "metadata": {},
     "output_type": "execute_result"
    }
   ],
   "source": [
    "# construct a symmetric PD matrix\n",
    "\n",
    "rndm = np.random.RandomState(1)\n",
    "a = np.random.uniform(size=(5, 5))\n",
    "A = a.T @ a\n",
    "A"
   ]
  },
  {
   "cell_type": "code",
   "execution_count": 72,
   "metadata": {},
   "outputs": [
    {
     "data": {
      "text/plain": [
       "array([7.15900171, 0.49077375, 0.23828686, 0.14173221, 0.00484317])"
      ]
     },
     "execution_count": 72,
     "metadata": {},
     "output_type": "execute_result"
    }
   ],
   "source": [
    "np.linalg.eigvals(A)"
   ]
  },
  {
   "cell_type": "code",
   "execution_count": 73,
   "metadata": {},
   "outputs": [
    {
     "data": {
      "text/plain": [
       "array([[ 7.15900171,  0.        , -0.        ,  0.        ,  0.        ],\n",
       "       [-0.        ,  0.49077375,  0.        ,  0.        , -0.        ],\n",
       "       [ 0.        , -0.        ,  0.23828686, -0.        , -0.        ],\n",
       "       [ 0.        , -0.        , -0.        ,  0.14173221, -0.        ],\n",
       "       [ 0.        , -0.        ,  0.        ,  0.        ,  0.00484317]])"
      ]
     },
     "execution_count": 73,
     "metadata": {},
     "output_type": "execute_result"
    }
   ],
   "source": [
    "# do the QR iteration, vary the number of steps, check the form of the result\n",
    "\n",
    "A1 = qr_iterate(A, 50)\n",
    "np.set_printoptions(suppress=True, linewidth=100)\n",
    "A1"
   ]
  },
  {
   "cell_type": "code",
   "execution_count": 74,
   "metadata": {},
   "outputs": [
    {
     "data": {
      "text/plain": [
       "array([7.15900171, 0.49077375, 0.23828686, 0.14173221, 0.00484317])"
      ]
     },
     "execution_count": 74,
     "metadata": {},
     "output_type": "execute_result"
    }
   ],
   "source": [
    "# 1. Compare the diagonal of A1 with eigenvalues of A\n",
    "np.diag(A1)"
   ]
  },
  {
   "cell_type": "code",
   "execution_count": 75,
   "metadata": {},
   "outputs": [
    {
     "data": {
      "text/plain": [
       "array([ 0.,  0., -0.,  0., -0.])"
      ]
     },
     "execution_count": 75,
     "metadata": {},
     "output_type": "execute_result"
    }
   ],
   "source": [
    "# study the convergence of the diag elements with the number of iterations\n",
    "\n",
    "eigv = np.linalg.eigvals(A)\n",
    "qr_eigv = np.diag(A1)\n",
    "\n",
    "np.sort(eigv) - np.sort(qr_eigv)"
   ]
  },
  {
   "cell_type": "code",
   "execution_count": 76,
   "metadata": {},
   "outputs": [],
   "source": [
    "# 2. study the convergence of elements below the main diagonal"
   ]
  },
  {
   "cell_type": "markdown",
   "metadata": {},
   "source": [
    "# 2. QR iteration for a general (not symmetric matrix)"
   ]
  },
  {
   "cell_type": "code",
   "execution_count": 77,
   "metadata": {},
   "outputs": [],
   "source": [
    "# Take the original matrix A, do the QR iteration"
   ]
  },
  {
   "cell_type": "code",
   "execution_count": 78,
   "metadata": {},
   "outputs": [
    {
     "data": {
      "text/plain": [
       "array([[ 2.4994449 ,  0.42126114, -0.76746605, -0.27587524, -0.15824606],\n",
       "       [ 0.        , -0.58230225,  0.27943303, -0.10750288,  0.25733558],\n",
       "       [ 0.        , -0.2281125 , -0.40765121, -0.14037079,  0.01697414],\n",
       "       [ 0.        ,  0.        , -0.        ,  0.42514572, -0.01711343],\n",
       "       [ 0.        ,  0.        ,  0.        ,  0.        ,  0.07491993]])"
      ]
     },
     "execution_count": 78,
     "metadata": {},
     "output_type": "execute_result"
    }
   ],
   "source": [
    "# vary the number of steps, start with ten or so ; note that it converges to a *real* Schur form, with 2x2 blocks\n",
    "\n",
    "a1 = qr_iterate(a, 1500)\n",
    "a1"
   ]
  },
  {
   "cell_type": "code",
   "execution_count": 79,
   "metadata": {},
   "outputs": [
    {
     "data": {
      "text/plain": [
       "array([ 2.4994449 +0.j        , -0.49497673+0.23688905j, -0.49497673-0.23688905j,\n",
       "        0.42514572+0.j        ,  0.07491993+0.j        ])"
      ]
     },
     "execution_count": 79,
     "metadata": {},
     "output_type": "execute_result"
    }
   ],
   "source": [
    "# check the eigenvalues: note the complex conjugate pairs; \n",
    "# note that the real ones agree with the diagonal of the results of the QR iteration\n",
    "np.linalg.eigvals(a)"
   ]
  },
  {
   "cell_type": "code",
   "execution_count": 80,
   "metadata": {},
   "outputs": [
    {
     "data": {
      "text/plain": [
       "array([[-0.40765121, -0.14037079],\n",
       "       [-0.        ,  0.42514572]])"
      ]
     },
     "execution_count": 80,
     "metadata": {},
     "output_type": "execute_result"
    }
   ],
   "source": [
    "# Note a 2x2 block, check its eigenvalues\n",
    "block = a1[1:3, 1:4]\n",
    "block"
   ]
  },
  {
   "cell_type": "code",
   "execution_count": 81,
   "metadata": {},
   "outputs": [
    {
     "data": {
      "text/plain": [
       "array([-0.40765121,  0.42514572])"
      ]
     },
     "execution_count": 81,
     "metadata": {},
     "output_type": "execute_result"
    }
   ],
   "source": [
    "# Eigenvalues of the block agree with complex conj eigvals of A\n",
    "np.linalg.eigvals(block)"
   ]
  },
  {
   "cell_type": "markdown",
   "metadata": {},
   "source": [
    "# 3. Classwork\n",
    "\n",
    "Each student gets their own random seed: make it e.g. equal to their student ID number\n",
    "\n",
    "repeat the analysis, select 2x2 blocks, compare to the \"ground truth\" eigenvalues"
   ]
  },
  {
   "cell_type": "code",
   "execution_count": null,
   "metadata": {
    "collapsed": true
   },
   "outputs": [],
   "source": []
  }
 ],
 "metadata": {
  "kernelspec": {
   "display_name": "Python 3",
   "language": "python",
   "name": "python3"
  },
  "language_info": {
   "codemirror_mode": {
    "name": "ipython",
    "version": 3
   },
   "file_extension": ".py",
   "mimetype": "text/x-python",
   "name": "python",
   "nbconvert_exporter": "python",
   "pygments_lexer": "ipython3",
   "version": "3.6.5"
  }
 },
 "nbformat": 4,
 "nbformat_minor": 2
}
