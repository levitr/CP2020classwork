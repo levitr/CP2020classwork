{
 "cells": [
  {
   "cell_type": "markdown",
   "metadata": {},
   "source": [
    "# I. $LU$ factorization of a square matrix"
   ]
  },
  {
   "cell_type": "markdown",
   "metadata": {},
   "source": [
    "Consider a simple naive implementation of the LU decomposition. \n",
    "\n",
    "Note that we're using the `numpy` arrays to represent matrices [do **not** use `np.matrix`]."
   ]
  },
  {
   "cell_type": "code",
   "execution_count": 1,
   "metadata": {},
   "outputs": [],
   "source": [
    "import numpy as np\n",
    "np.set_printoptions(precision=3)\n",
    "\n",
    "a3=np.array([[3,15,1,-1,0],[1,5,3,21,-3],[2,10,1,-9,15],[-4,0,12,-5,2],[7,1,31,11,9]])\n",
    "\n",
    "def diy_lu(a):\n",
    "    \"\"\"Construct the LU decomposition of the input matrix.\n",
    "    \n",
    "    Naive LU decomposition: work column by column, accumulate elementary triangular matrices.\n",
    "    No pivoting.\n",
    "    \"\"\"\n",
    "    N = a.shape[0]\n",
    "    \n",
    "    u = a.copy()\n",
    "    L = np.eye(N)\n",
    "    for j in range(N-1):\n",
    "        lam = np.eye(N)\n",
    "        gamma = u[j+1:, j] / u[j, j]\n",
    "        lam[j+1:, j] = -gamma\n",
    "        u = lam @ u\n",
    "\n",
    "        lam[j+1:, j] = gamma\n",
    "        L = L @ lam\n",
    "    return L, u"
   ]
  },
  {
   "cell_type": "code",
   "execution_count": 2,
   "metadata": {},
   "outputs": [
    {
     "data": {
      "text/plain": [
       "6"
      ]
     },
     "execution_count": 2,
     "metadata": {},
     "output_type": "execute_result"
    }
   ],
   "source": [
    "# Now, generate a full rank matrix and test the naive implementation\n",
    "\n",
    "import numpy as np\n",
    "\n",
    "N = 6\n",
    "a = np.zeros((N, N), dtype=float)\n",
    "for i in range(N):\n",
    "    for j in range(N):\n",
    "        a[i, j] = 3. / (0.6*i*j + 1)\n",
    "\n",
    "np.linalg.matrix_rank(a)"
   ]
  },
  {
   "cell_type": "code",
   "execution_count": 3,
   "metadata": {},
   "outputs": [],
   "source": [
    "# Tweak the printing of floating-point numbers, for clarity\n",
    "np.set_printoptions(precision=3)"
   ]
  },
  {
   "cell_type": "code",
   "execution_count": null,
   "metadata": {},
   "outputs": [],
   "source": []
  },
  {
   "cell_type": "markdown",
   "metadata": {},
   "source": [
    "# II. The need for pivoting"
   ]
  },
  {
   "cell_type": "markdown",
   "metadata": {},
   "source": [
    "Let's tweak the matrix a little bit, we only change a single element:"
   ]
  },
  {
   "cell_type": "code",
   "execution_count": 5,
   "metadata": {},
   "outputs": [
    {
     "name": "stdout",
     "output_type": "stream",
     "text": [
      "[[3.    3.    3.    3.    3.    3.   ]\n",
      " [3.    3.    1.364 1.071 0.882 0.75 ]\n",
      " [3.    1.364 0.882 0.652 0.517 0.429]\n",
      " [3.    1.071 0.652 0.469 0.366 0.3  ]\n",
      " [3.    0.882 0.517 0.366 0.283 0.231]\n",
      " [3.    0.75  0.429 0.3   0.231 0.188]]\n"
     ]
    }
   ],
   "source": [
    "a1 = a.copy()\n",
    "a1[1, 1] = 3\n",
    "print(a1)"
   ]
  },
  {
   "cell_type": "markdown",
   "metadata": {},
   "source": [
    "Resulting matix still has full rank, but the naive LU routine breaks down."
   ]
  },
  {
   "cell_type": "code",
   "execution_count": null,
   "metadata": {},
   "outputs": [],
   "source": []
  },
  {
   "cell_type": "code",
   "execution_count": null,
   "metadata": {},
   "outputs": [],
   "source": []
  },
  {
   "cell_type": "markdown",
   "metadata": {},
   "source": [
    "### Test II.1\n",
    "\n",
    "For a naive LU decomposition to work, all leading minors of a matrix should be non-zero. Check if this requirement is satisfied for the two matrices `a` and `a1`.\n",
    "\n",
    "(20% of the grade)"
   ]
  },
  {
   "cell_type": "code",
   "execution_count": 25,
   "metadata": {},
   "outputs": [
    {
     "name": "stdout",
     "output_type": "stream",
     "text": [
      "(False, 2)\n"
     ]
    }
   ],
   "source": [
    "def MinorCheck(A):\n",
    "    N=np.size(A,1)\n",
    "    checkStatus=True\n",
    "    breakInd=None\n",
    "    for ind in range(N):\n",
    "        if np.abs(np.linalg.det(A[:ind,:ind]))<1e-15:\n",
    "            checkStatus=False\n",
    "            breakInd=ind\n",
    "            break\n",
    "    return (checkStatus, breakInd)\n",
    "\n",
    "print(MinorCheck(a3))"
   ]
  },
  {
   "cell_type": "markdown",
   "metadata": {},
   "source": [
    "### Вариант 1\n",
    "\n",
    "Пусть $A\\Pi=LU$\n",
    "\n",
    "Отличие от простейшего алгоритма - перестановки столбцов. Тогда для получения матрицы $U$ на каждом шаге $j$ строим матрицу $U^{(j)}$ путем домножения матрицы $U^{(j-1)}$ ($U^{(0)}$=A) справа на матрицу текущих перестановок $P^{(j)}$ и слева - на матрицу $\\Lambda^{(j)}$, получаемую тем же способом, что и раньше:\n",
    "\n",
    "$U^{(j)} =\\Lambda^{(j)} U^{(j-1)} P^{(j)}$\n",
    "\n",
    "На каждом шаге матрица перестановок $\\Pi^{(j)}=\\Pi^{(j-1)} P^{(j)}$, $\\Pi^0=E$\n",
    "\n",
    "В результате:\n",
    "\n",
    "$L^{-1} A \\Pi=\\Lambda^{(N)}  ... \\Lambda^{(1)}  A P^{(1)} ... P^{(N)} $\n",
    "\n",
    "где\n",
    "\n",
    "$L=\\Lambda^{(N)}  ... \\Lambda^{(1)}$\n",
    "\n",
    "$\\Pi = P^{(1)} ... P^{(N)}$"
   ]
  },
  {
   "cell_type": "code",
   "execution_count": 27,
   "metadata": {},
   "outputs": [],
   "source": [
    "def diy_lup_col(A):\n",
    "    N=np.size(A,1)\n",
    "    U = A.copy()\n",
    "    L = np.eye(N)\n",
    "    P = np.eye(N)\n",
    "    \n",
    "    for j in range(N-1):\n",
    "        Pj=np.eye(N)\n",
    "        indMax=j+np.argmax(np.abs(U[j,j:]))\n",
    "        if indMax!=j:\n",
    "            Pj[:,[j,indMax]]=Pj[:,[indMax,j]]\n",
    "            U = U @ Pj\n",
    "            P = P @ Pj\n",
    "            \n",
    "            lam = np.eye(N)\n",
    "            gamma = U[j+1:, j] / U[j, j]\n",
    "            lam[j+1:, j] = -gamma\n",
    "            U = lam @ U\n",
    "\n",
    "            lam[j+1:, j] = gamma\n",
    "            L = L @ lam\n",
    "        \n",
    "    return L, U, P"
   ]
  },
  {
   "cell_type": "markdown",
   "metadata": {},
   "source": [
    "### Вариант 2\n",
    "\n",
    "Пусть $\\Pi A=LU$\n",
    "\n",
    "Отличие от простейшего алгоритма - перестановки строк. Тогда для получения матрицы $U$ на каждом шаге $j$ строим матрицу $U^{(j)}$ путем домножения матрицы $U^{(j-1)}$ ($U^{(0)}$=A) сначала на матрицу текущих перестановок $P^{(j)}$, а потом на матрицу $\\Lambda^{(j)}$, получаемую тем же способом, что и раньше:\n",
    "\n",
    "$U^{(j)} =\\Lambda^{(j)} P^{(j)} U^{(j-1)}$\n",
    "\n",
    "На каждом шаге матрица перестановок $\\Pi^{(j)}=P^{(j)} \\Pi^{(j-1)}$, $\\Pi^0=E$\n",
    "\n",
    "В результате:\n",
    "\n",
    "$L^{-1}\\Pi A=\\Lambda^{(N)} P^{(N)} \\Lambda^{(N-1)} P^{(N-1)} ... \\Lambda^{(1)} P^{(1)} A$\n",
    "\n",
    "Отсюда \n",
    "\n",
    "$(L^{-1}\\Pi-\\Lambda^{(N)} P^{(N)} \\Lambda^{(N-1)} P^{(N-1)} ... \\Lambda^{(1)} P^{(1)}E)A=0$\n",
    "\n",
    "$L^{-1}\\Pi=\\Lambda^{(N)} P^{(N)} \\Lambda^{(N-1)} P^{(N-1)} ... \\Lambda^{(1)} P^{(1)}E$\n",
    "\n",
    "$\\Pi^TL=P^{(1)} \\Lambda^{(1)^{-1}}  ...  P^{(N)} \\Lambda^{(N)^{-1}} E$\n",
    "\n",
    "и $L=\\Pi P^{(1)} \\Lambda^{(1)^{-1}}  ...  P^{(N)} \\Lambda^{(N)^{-1}} E$\n",
    "\n",
    "где $\\Pi = P^{(N)}...P^{(1)}$"
   ]
  },
  {
   "cell_type": "code",
   "execution_count": 28,
   "metadata": {},
   "outputs": [],
   "source": [
    "def diy_lup_row(A):\n",
    "    N=np.size(A,1)\n",
    "    U = A.copy()\n",
    "    L = np.eye(N)\n",
    "    P = np.eye(N)\n",
    "    \n",
    "    for j in range(N-1):\n",
    "        Pj=np.eye(N)\n",
    "        indMax=j+np.argmax(np.abs(U[j:,j]))\n",
    "        if indMax!=j:\n",
    "            Pj[[j,indMax]]=Pj[[indMax,j]]\n",
    "            U = Pj @ U\n",
    "            P = Pj @ P\n",
    "        \n",
    "        lam = np.eye(N)\n",
    "        gamma = U[j+1:, j] / U[j, j]\n",
    "        lam[j+1:, j] = -gamma\n",
    "        U = lam @ U\n",
    "\n",
    "        lam[j+1:, j] = gamma\n",
    "        L = L @ Pj @ lam\n",
    "    return P@L, U, P "
   ]
  },
  {
   "cell_type": "code",
   "execution_count": 42,
   "metadata": {},
   "outputs": [],
   "source": [
    "lc, uc, pc = diy_lup_col(a3)\n",
    "lr, ur, pr = diy_lup_row(a3)"
   ]
  },
  {
   "cell_type": "code",
   "execution_count": 43,
   "metadata": {},
   "outputs": [
    {
     "name": "stdout",
     "output_type": "stream",
     "text": [
      "[[ 3 15  1 -1  0]\n",
      " [ 1  5  3 21 -3]\n",
      " [ 2 10  1 -9 15]\n",
      " [-4  0 12 -5  2]\n",
      " [ 7  1 31 11  9]]\n"
     ]
    }
   ],
   "source": [
    "print(a3)"
   ]
  },
  {
   "cell_type": "code",
   "execution_count": 44,
   "metadata": {},
   "outputs": [
    {
     "name": "stdout",
     "output_type": "stream",
     "text": [
      "[[ 1.     0.     0.     0.     0.   ]\n",
      " [ 0.333  1.     0.     0.     0.   ]\n",
      " [ 0.667 -0.391  1.     0.     0.   ]\n",
      " [ 0.    -0.234  0.094  1.     0.   ]\n",
      " [ 0.067  0.519  0.763  2.281  1.   ]]\n"
     ]
    }
   ],
   "source": [
    "print(lc)"
   ]
  },
  {
   "cell_type": "code",
   "execution_count": 45,
   "metadata": {},
   "outputs": [
    {
     "name": "stdout",
     "output_type": "stream",
     "text": [
      "[[15.    -1.     0.     1.     3.   ]\n",
      " [ 0.    21.333 -3.     2.667  0.   ]\n",
      " [ 0.     0.    13.828  1.375  0.   ]\n",
      " [ 0.     0.     0.    12.496 -4.   ]\n",
      " [ 0.     0.     0.     0.    15.923]]\n"
     ]
    }
   ],
   "source": [
    "print(uc)"
   ]
  },
  {
   "cell_type": "code",
   "execution_count": 46,
   "metadata": {},
   "outputs": [
    {
     "name": "stdout",
     "output_type": "stream",
     "text": [
      "[[0. 0. 0. 0. 1.]\n",
      " [1. 0. 0. 0. 0.]\n",
      " [0. 0. 0. 1. 0.]\n",
      " [0. 1. 0. 0. 0.]\n",
      " [0. 0. 1. 0. 0.]]\n"
     ]
    }
   ],
   "source": [
    "print(pc)"
   ]
  },
  {
   "cell_type": "code",
   "execution_count": 47,
   "metadata": {},
   "outputs": [
    {
     "name": "stdout",
     "output_type": "stream",
     "text": [
      "[[ 3. 15.  1. -1.  0.]\n",
      " [ 1.  5.  3. 21. -3.]\n",
      " [ 2. 10.  1. -9. 15.]\n",
      " [-4.  0. 12. -5.  2.]\n",
      " [ 7.  1. 31. 11.  9.]]\n"
     ]
    }
   ],
   "source": [
    "print(lc @ uc @ pc.T)"
   ]
  },
  {
   "cell_type": "code",
   "execution_count": 48,
   "metadata": {},
   "outputs": [
    {
     "name": "stdout",
     "output_type": "stream",
     "text": [
      "[[ 1.     0.     0.     0.     0.   ]\n",
      " [ 0.429  1.     0.     0.     0.   ]\n",
      " [-0.571  0.039  1.     0.     0.   ]\n",
      " [ 0.143  0.333  0.088  1.     0.   ]\n",
      " [ 0.286  0.667  0.011 -0.394  1.   ]]\n"
     ]
    }
   ],
   "source": [
    "print(lr)"
   ]
  },
  {
   "cell_type": "code",
   "execution_count": 49,
   "metadata": {},
   "outputs": [
    {
     "name": "stdout",
     "output_type": "stream",
     "text": [
      "[[  7.      1.     31.     11.      9.   ]\n",
      " [  0.     14.571 -12.286  -5.714  -3.857]\n",
      " [  0.      0.     30.196   1.51    7.294]\n",
      " [  0.      0.      0.     21.2    -3.644]\n",
      " [  0.      0.      0.      0.     13.484]]\n"
     ]
    }
   ],
   "source": [
    "print(ur)"
   ]
  },
  {
   "cell_type": "code",
   "execution_count": 50,
   "metadata": {},
   "outputs": [
    {
     "name": "stdout",
     "output_type": "stream",
     "text": [
      "[[0. 0. 0. 0. 1.]\n",
      " [1. 0. 0. 0. 0.]\n",
      " [0. 0. 0. 1. 0.]\n",
      " [0. 1. 0. 0. 0.]\n",
      " [0. 0. 1. 0. 0.]]\n"
     ]
    }
   ],
   "source": [
    "print(pr)"
   ]
  },
  {
   "cell_type": "code",
   "execution_count": 52,
   "metadata": {},
   "outputs": [
    {
     "name": "stdout",
     "output_type": "stream",
     "text": [
      "[[ 3.000e+00  1.500e+01  1.000e+00 -1.000e+00  0.000e+00]\n",
      " [ 1.000e+00  5.000e+00  3.000e+00  2.100e+01 -3.000e+00]\n",
      " [ 2.000e+00  1.000e+01  1.000e+00 -9.000e+00  1.500e+01]\n",
      " [-4.000e+00  1.384e-17  1.200e+01 -5.000e+00  2.000e+00]\n",
      " [ 7.000e+00  1.000e+00  3.100e+01  1.100e+01  9.000e+00]]\n"
     ]
    }
   ],
   "source": [
    "print(pr.T @ lr @ ur)"
   ]
  },
  {
   "cell_type": "code",
   "execution_count": null,
   "metadata": {},
   "outputs": [],
   "source": []
  }
 ],
 "metadata": {
  "kernelspec": {
   "display_name": "Python 3",
   "language": "python",
   "name": "python3"
  },
  "language_info": {
   "codemirror_mode": {
    "name": "ipython",
    "version": 3
   },
   "file_extension": ".py",
   "mimetype": "text/x-python",
   "name": "python",
   "nbconvert_exporter": "python",
   "pygments_lexer": "ipython3",
   "version": "3.7.1"
  }
 },
 "nbformat": 4,
 "nbformat_minor": 2
}
